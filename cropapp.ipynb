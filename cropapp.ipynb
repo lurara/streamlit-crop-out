{
  "nbformat": 4,
  "nbformat_minor": 0,
  "metadata": {
    "colab": {
      "name": "cropapp.ipynb",
      "provenance": [],
      "collapsed_sections": []
    },
    "kernelspec": {
      "name": "python3",
      "display_name": "Python 3"
    },
    "language_info": {
      "name": "python"
    }
  },
  "cells": [
    {
      "cell_type": "markdown",
      "source": [
        "A ideia é retirar os footers e headers das imagens a partir de uma imagem inserida. as novas imagens serão salvas numa nova pasta, mas com o mesmo nome"
      ],
      "metadata": {
        "id": "Bt5t1u4DrSS_"
      }
    },
    {
      "cell_type": "markdown",
      "source": [
        "##Falta só fazer uma interface pelo streamlit para seleção de tamanho de crop, seleção de imagens e organização das pastas"
      ],
      "metadata": {
        "id": "LiGHlI-aYjcN"
      }
    },
    {
      "cell_type": "code",
      "execution_count": 1,
      "metadata": {
        "colab": {
          "base_uri": "https://localhost:8080/"
        },
        "id": "ks-rdlXjq6q_",
        "outputId": "b5f6b932-3f08-4661-928c-345f15220900"
      },
      "outputs": [
        {
          "output_type": "stream",
          "name": "stdout",
          "text": [
            "\u001b[K     |████████████████████████████████| 9.1 MB 1.5 MB/s \n",
            "\u001b[K     |████████████████████████████████| 235 kB 1.5 MB/s \n",
            "\u001b[K     |████████████████████████████████| 4.3 MB 42.9 MB/s \n",
            "\u001b[K     |████████████████████████████████| 78 kB 4.8 MB/s \n",
            "\u001b[K     |████████████████████████████████| 181 kB 59.3 MB/s \n",
            "\u001b[K     |████████████████████████████████| 164 kB 66.2 MB/s \n",
            "\u001b[K     |████████████████████████████████| 63 kB 1.6 MB/s \n",
            "\u001b[K     |████████████████████████████████| 132 kB 53.0 MB/s \n",
            "\u001b[K     |████████████████████████████████| 793 kB 56.6 MB/s \n",
            "\u001b[K     |████████████████████████████████| 132 kB 1.6 MB/s \n",
            "\u001b[K     |████████████████████████████████| 423 kB 41.8 MB/s \n",
            "\u001b[K     |████████████████████████████████| 381 kB 62.4 MB/s \n",
            "\u001b[K     |████████████████████████████████| 51 kB 4.3 MB/s \n",
            "\u001b[?25h  Building wheel for validators (setup.py) ... \u001b[?25l\u001b[?25hdone\n",
            "\u001b[31mERROR: pip's dependency resolver does not currently take into account all the packages that are installed. This behaviour is the source of the following dependency conflicts.\n",
            "nbclient 0.6.6 requires traitlets>=5.2.2, but you have traitlets 5.1.1 which is incompatible.\n",
            "jupyter-console 5.2.0 requires prompt-toolkit<2.0.0,>=1.0.0, but you have prompt-toolkit 3.0.30 which is incompatible.\n",
            "google-colab 1.0.0 requires ipykernel~=4.10, but you have ipykernel 6.15.1 which is incompatible.\n",
            "google-colab 1.0.0 requires ipython~=5.5.0, but you have ipython 7.34.0 which is incompatible.\n",
            "google-colab 1.0.0 requires tornado~=5.1.0, but you have tornado 6.2 which is incompatible.\u001b[0m\n"
          ]
        }
      ],
      "source": [
        "!pip install streamlit -q"
      ]
    },
    {
      "cell_type": "code",
      "source": [
        "#%%writefile app.py\n",
        "import streamlit as st\n",
        "import pandas as pd\n",
        "import numpy as np\n",
        "import os\n",
        "from PIL import Image\n",
        "\n",
        "st.text(os.getcwd())\n",
        "\n",
        "fileDir = os.getcwd()\n",
        "\n",
        "def load_image(image_file):\n",
        "\timg = Image.open(image_file)\n",
        "\treturn img\n",
        "\n",
        "\n",
        "st.subheader(\"Image\")\n",
        "image_file = st.file_uploader(\"Upload Images\",\n",
        "  type=[\"png\",\"jpg\",\"jpeg\"])\n",
        "\n",
        "if image_file is not None:\n",
        "    # TO See details\n",
        "    file_details = {\"filename\":image_file.name, \"filetype\":image_file.type,\n",
        "                          \"filesize\":image_file.size}\n",
        "    st.write(file_details)\n",
        "    st.image(load_image(image_file), width=250)\n",
        "    \n",
        "    #Saving upload\n",
        "    with open(os.path.join(fileDir,image_file.name),\"wb\") as f:\n",
        "      f.write((image_file).getbuffer())\n",
        "    \n",
        "    st.success(\"File Saved\")\n",
        "\n",
        "# st.title('Uber pickups in NYC')\n",
        "\n",
        "# DATE_COLUMN = 'date/time'\n",
        "# DATA_URL = ('https://s3-us-west-2.amazonaws.com/'\n",
        "#             'streamlit-demo-data/uber-raw-data-sep14.csv.gz')\n",
        "\n",
        "# @st.cache\n",
        "# def load_data(nrows):\n",
        "#     data = pd.read_csv(DATA_URL, nrows=nrows)\n",
        "#     lowercase = lambda x: str(x).lower()\n",
        "#     data.rename(lowercase, axis='columns', inplace=True)\n",
        "#     data[DATE_COLUMN] = pd.to_datetime(data[DATE_COLUMN])\n",
        "#     return data\n",
        "\n",
        "# data_load_state = st.text('Loading data...')\n",
        "# data = load_data(10000)\n",
        "# data_load_state.text(\"Done! (using st.cache)\")\n",
        "\n",
        "# if st.checkbox('Show raw data'):\n",
        "#     st.subheader('Raw data')\n",
        "#     st.write(data)\n",
        "\n",
        "# st.subheader('Number of pickups by hour')\n",
        "# hist_values = np.histogram(data[DATE_COLUMN].dt.hour, bins=24, range=(0,24))[0]\n",
        "# st.bar_chart(hist_values)\n",
        "\n",
        "# # Some number in the range 0-23\n",
        "# hour_to_filter = st.slider('hour', 0, 23, 17)\n",
        "# filtered_data = data[data[DATE_COLUMN].dt.hour == hour_to_filter]\n",
        "\n",
        "# st.subheader('Map of all pickups at %s:00' % hour_to_filter)\n",
        "# st.map(filtered_data)"
      ],
      "metadata": {
        "colab": {
          "base_uri": "https://localhost:8080/"
        },
        "id": "KA9NlXlPTKmj",
        "outputId": "16603052-66d4-4a2b-94a9-ae4582e6b880"
      },
      "execution_count": 23,
      "outputs": [
        {
          "output_type": "stream",
          "name": "stdout",
          "text": [
            "Overwriting app.py\n"
          ]
        }
      ]
    },
    {
      "cell_type": "code",
      "source": [
        "!streamlit run app.py & npx localtunnel --port 8501"
      ],
      "metadata": {
        "colab": {
          "base_uri": "https://localhost:8080/"
        },
        "id": "6ldxpvx6Utc3",
        "outputId": "02014485-d9f6-43d4-cff4-f9c76f5601d8"
      },
      "execution_count": 24,
      "outputs": [
        {
          "output_type": "stream",
          "name": "stdout",
          "text": [
            "2022-07-27 02:56:19.335 INFO    numexpr.utils: NumExpr defaulting to 2 threads.\n",
            "\u001b[0m\n",
            "\u001b[34m\u001b[1m  You can now view your Streamlit app in your browser.\u001b[0m\n",
            "\u001b[0m\n",
            "\u001b[34m  Network URL: \u001b[0m\u001b[1mhttp://172.28.0.2:8501\u001b[0m\n",
            "\u001b[34m  External URL: \u001b[0m\u001b[1mhttp://104.196.105.127:8501\u001b[0m\n",
            "\u001b[0m\n",
            "\u001b[K\u001b[?25hnpx: installed 22 in 2.836s\n",
            "your url is: http://pink-cases-serve-104-196-105-127.loca.lt\n",
            "\u001b[34m  Stopping...\u001b[0m\n",
            "^C\n"
          ]
        }
      ]
    },
    {
      "cell_type": "code",
      "source": [
        "#https://stackoverflow.com/questions/7853628/how-do-i-find-an-image-contained-within-an-image\n",
        "#https://opencv-image-crop.herokuapp.com/"
      ],
      "metadata": {
        "id": "XxIcU1k927Q7"
      },
      "execution_count": null,
      "outputs": []
    },
    {
      "cell_type": "markdown",
      "source": [
        ""
      ],
      "metadata": {
        "id": "h74ejSrhGOVT"
      }
    }
  ]
}